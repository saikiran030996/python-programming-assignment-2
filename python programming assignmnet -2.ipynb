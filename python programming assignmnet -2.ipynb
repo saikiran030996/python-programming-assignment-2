{
 "cells": [
  {
   "cell_type": "markdown",
   "metadata": {},
   "source": [
    "Write a Python program to convert kilometers to miles?"
   ]
  },
  {
   "cell_type": "code",
   "execution_count": 3,
   "metadata": {},
   "outputs": [
    {
     "name": "stdout",
     "output_type": "stream",
     "text": [
      "enter the value of kilometers:10\n",
      "the converted kilometers into miles: 6.21371\n"
     ]
    }
   ],
   "source": [
    "km = int(input('enter the value of kilometers:'))\n",
    "ratio = 0.621371\n",
    "mi = km*ratio\n",
    "print('the converted kilometers into miles:',mi)"
   ]
  },
  {
   "cell_type": "markdown",
   "metadata": {},
   "source": [
    "Write a Python program to convert Celsius to Fahrenheit?"
   ]
  },
  {
   "cell_type": "code",
   "execution_count": 7,
   "metadata": {},
   "outputs": [
    {
     "name": "stdout",
     "output_type": "stream",
     "text": [
      "enter the value of celsuis:30\n",
      "tne converted celsuis into fahrenheit: 86.0\n"
     ]
    }
   ],
   "source": [
    "celsuis = int(input('enter the value of celsuis:'))\n",
    "fahrenheit = (celsuis *9/5) + 32\n",
    "print('tne converted celsuis into fahrenheit:',fahrenheit)"
   ]
  },
  {
   "cell_type": "markdown",
   "metadata": {},
   "source": [
    "Write a Python program to display calendar?"
   ]
  },
  {
   "cell_type": "code",
   "execution_count": 5,
   "metadata": {},
   "outputs": [
    {
     "name": "stdout",
     "output_type": "stream",
     "text": [
      "enter year of your choice:2021\n",
      "enter month of your choice:03\n",
      "     March 2021\n",
      "Mo Tu We Th Fr Sa Su\n",
      " 1  2  3  4  5  6  7\n",
      " 8  9 10 11 12 13 14\n",
      "15 16 17 18 19 20 21\n",
      "22 23 24 25 26 27 28\n",
      "29 30 31\n",
      "\n"
     ]
    }
   ],
   "source": [
    "import calendar\n",
    "year = int(input('enter year of your choice:'))\n",
    "month = int(input('enter month of your choice:'))\n",
    "print(calendar.month(year,month))"
   ]
  },
  {
   "cell_type": "markdown",
   "metadata": {},
   "source": [
    "Write a Python program to solve quadratic equation?"
   ]
  },
  {
   "cell_type": "code",
   "execution_count": 8,
   "metadata": {},
   "outputs": [
    {
     "name": "stdout",
     "output_type": "stream",
     "text": [
      "enter a value:2\n",
      "enter b value:3\n",
      "enter c value:4\n",
      "the solution are (-3-4.795831523312719j) and (-3+4.795831523312719j)\n"
     ]
    }
   ],
   "source": [
    "# python has a built-in module that you can use for mathematical tasks for complex numbers\n",
    "# the standard form of quadratic equation is:ax2 + bx + c = 0, where a, b and c are real numbers and\n",
    "import cmath\n",
    "a = int(input('enter a value:'))\n",
    "b = int(input('enter b value:'))\n",
    "c = int(input('enter c value:'))\n",
    "d = (b**2) - (4*a*c)\n",
    "sol1 = (-b-cmath.sqrt(d))/2*a\n",
    "sol2 = (-b+cmath.sqrt(d))/2*a\n",
    "print('the solution are {0} and {1}'.format(sol1,sol2))"
   ]
  },
  {
   "cell_type": "markdown",
   "metadata": {},
   "source": [
    "Write a Python program to swap two variables without temp variable?"
   ]
  },
  {
   "cell_type": "code",
   "execution_count": 11,
   "metadata": {},
   "outputs": [
    {
     "name": "stdout",
     "output_type": "stream",
     "text": [
      "enter first variable:2\n",
      "enter second variable:3\n",
      "2,3 are the variables before swapping\n",
      "3,2 are the variables after swapping\n"
     ]
    }
   ],
   "source": [
    "x = input('enter first variable:')\n",
    "y = input('enter second variable:')\n",
    "print('{0},{1} are the variables before swapping'.format(x,y))\n",
    "x,y = y,x\n",
    "print('{0},{1} are the variables after swapping'.format(x,y))"
   ]
  },
  {
   "cell_type": "code",
   "execution_count": null,
   "metadata": {},
   "outputs": [],
   "source": []
  }
 ],
 "metadata": {
  "kernelspec": {
   "display_name": "Python 3",
   "language": "python",
   "name": "python3"
  }
 },
 "nbformat": 4,
 "nbformat_minor": 4
}
